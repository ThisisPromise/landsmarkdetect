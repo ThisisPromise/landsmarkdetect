{
 "cells": [
  {
   "cell_type": "code",
   "execution_count": 1,
   "metadata": {},
   "outputs": [
    {
     "ename": "ModuleNotFoundError",
     "evalue": "No module named 'mediapipe'",
     "output_type": "error",
     "traceback": [
      "\u001b[1;31m---------------------------------------------------------------------------\u001b[0m",
      "\u001b[1;31mModuleNotFoundError\u001b[0m                       Traceback (most recent call last)",
      "Cell \u001b[1;32mIn[1], line 4\u001b[0m\n\u001b[0;32m      2\u001b[0m \u001b[38;5;28;01mimport\u001b[39;00m \u001b[38;5;21;01mcv2\u001b[39;00m\n\u001b[0;32m      3\u001b[0m \u001b[38;5;28;01mimport\u001b[39;00m \u001b[38;5;21;01mtime\u001b[39;00m\n\u001b[1;32m----> 4\u001b[0m \u001b[38;5;28;01mimport\u001b[39;00m \u001b[38;5;21;01mmediapipe\u001b[39;00m \u001b[38;5;28;01mas\u001b[39;00m \u001b[38;5;21;01mmp\u001b[39;00m\n",
      "\u001b[1;31mModuleNotFoundError\u001b[0m: No module named 'mediapipe'"
     ]
    }
   ],
   "source": [
    "\n",
    "import cv2\n",
    "import time\n",
    "import mediapipe as mp"
   ]
  },
  {
   "cell_type": "code",
   "execution_count": null,
   "metadata": {},
   "outputs": [],
   "source": [
    "\n",
    "mp_holistic = mp.solutions.holistic\n",
    "holistic_model = mp_holistic.Holistic(\n",
    "\tmin_detection_confidence=0.5,\n",
    "\tmin_tracking_confidence=0.5\n",
    ")\n",
    "\n",
    "\n",
    "mp_drawing = mp.solutions.drawing_utils\n"
   ]
  },
  {
   "cell_type": "code",
   "execution_count": null,
   "metadata": {},
   "outputs": [],
   "source": [
    "\n",
    "capture = cv2.VideoCapture(0)\n",
    "\n",
    "\n",
    "previousTime = 0\n",
    "currentTime = 0\n",
    "\n",
    "while capture.isOpened():\n",
    "\n",
    "\tret, frame = capture.read()\n",
    "\n",
    "\n",
    "\tframe = cv2.resize(frame, (800, 600))\n",
    "\n",
    "\n",
    "\timage = cv2.cvtColor(frame, cv2.COLOR_BGR2RGB)\n",
    "\n",
    "\t\n",
    "\timage.flags.writeable = False\n",
    "\tresults = holistic_model.process(image)\n",
    "\timage.flags.writeable = True\n",
    "\n",
    "\t\n",
    "\timage = cv2.cvtColor(image, cv2.COLOR_RGB2BGR)\n",
    "\n",
    "\t\n",
    "\tmp_drawing.draw_landmarks(\n",
    "\timage,\n",
    "\tresults.face_landmarks,\n",
    "\tmp_holistic.FACEMESH_CONTOURS,\n",
    "\tmp_drawing.DrawingSpec(\n",
    "\t\tcolor=(255,0,255),\n",
    "\t\tthickness=1,\n",
    "\t\tcircle_radius=1\n",
    "\t),\n",
    "\tmp_drawing.DrawingSpec(\n",
    "\t\tcolor=(0,255,255),\n",
    "\t\tthickness=1,\n",
    "\t\tcircle_radius=1\n",
    "\t)\n",
    "\t)\n",
    "\n",
    "\n",
    "\tmp_drawing.draw_landmarks(\n",
    "\timage, \n",
    "\tresults.right_hand_landmarks, \n",
    "\tmp_holistic.HAND_CONNECTIONS\n",
    "\t)\n",
    "\n",
    "\n",
    "\tmp_drawing.draw_landmarks(\n",
    "\timage, \n",
    "\tresults.left_hand_landmarks, \n",
    "\tmp_holistic.HAND_CONNECTIONS\n",
    "\t)\n",
    "\t\n",
    "\t\n",
    "\tcurrentTime = time.time()\n",
    "\tfps = 1 / (currentTime-previousTime)\n",
    "\tpreviousTime = currentTime\n",
    "\t\n",
    "\t\n",
    "\tcv2.putText(image, str(int(fps))+\" FPS\", (10, 70), cv2.FONT_HERSHEY_COMPLEX, 1, (0,255,0), 2)\n",
    "\n",
    "\n",
    "\tcv2.imshow(\"Facial and Hand Landmarks\", image)\n",
    "\n",
    "\tif cv2.waitKey(5) & 0xFF == ord('q'):\n",
    "\t\tbreak\n",
    "\n",
    "capture.release()\n",
    "cv2.destroyAllWindows()\n"
   ]
  }
 ],
 "metadata": {
  "kernelspec": {
   "display_name": "Python 3",
   "language": "python",
   "name": "python3"
  },
  "language_info": {
   "codemirror_mode": {
    "name": "ipython",
    "version": 3
   },
   "file_extension": ".py",
   "mimetype": "text/x-python",
   "name": "python",
   "nbconvert_exporter": "python",
   "pygments_lexer": "ipython3",
   "version": "3.12.3"
  }
 },
 "nbformat": 4,
 "nbformat_minor": 2
}
